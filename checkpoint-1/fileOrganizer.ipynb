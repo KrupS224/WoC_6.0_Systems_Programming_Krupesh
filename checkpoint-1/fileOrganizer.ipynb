{
 "cells": [
  {
   "cell_type": "markdown",
   "metadata": {},
   "source": [
    "# 202101160 - Krupesh Parmar\n",
    "### DA-IICT"
   ]
  },
  {
   "cell_type": "markdown",
   "metadata": {},
   "source": [
    "# File Organizer\n",
    "The following code will implement below 2 functionalities:\n",
    "1. User inputs the directory path in which he/she wants to organize files.\n",
    "2. Create subdirectories for files with different extensions and organize it as per file extensions."
   ]
  },
  {
   "cell_type": "markdown",
   "metadata": {},
   "source": [
    "import required libraries."
   ]
  },
  {
   "cell_type": "code",
   "execution_count": 7,
   "metadata": {},
   "outputs": [],
   "source": [
    "import os\n",
    "import shutil"
   ]
  },
  {
   "cell_type": "markdown",
   "metadata": {},
   "source": [
    "write a function to get all the files from given directory path(if exists) and move each file into the folder named with the given file extension."
   ]
  },
  {
   "cell_type": "code",
   "execution_count": 8,
   "metadata": {},
   "outputs": [],
   "source": [
    "def fileOrganizer(directory_path):\n",
    "    if not os.path.exists(directory_path):\n",
    "        print(\"The specified directory path does not exist.\")\n",
    "        print(f\"Path: {directory_path}\")\n",
    "        print(\"Please enter a valid directory path.\")\n",
    "        return\n",
    "    \n",
    "    # make a list of all the files in the directory\n",
    "    files = os.listdir(directory_path)\n",
    "    print(f\"Files in the directory: {files}\")\n",
    "    \n",
    "    for file in files:\n",
    "        if os.path.isfile(os.path.join(directory_path, file)):\n",
    "            file_extension = os.path.splitext(file)[1][1:]\n",
    "            print(f\"File extension: {file_extension}\")\n",
    "            if not file_extension:\n",
    "                file_extension = \"others\"\n",
    "            \n",
    "            extension_directory = os.path.join(directory_path, file_extension)\n",
    "            print(f\"Extension directory: {extension_directory}\")\n",
    "            os.makedirs(extension_directory, exist_ok=True)\n",
    "            \n",
    "            # move the file to the extension directory\n",
    "            shutil.move(os.path.join(directory_path, file), extension_directory)\n",
    "    \n",
    "    print(\"\\nAll files have been organized successfully.\")"
   ]
  },
  {
   "cell_type": "markdown",
   "metadata": {},
   "source": [
    "Get the path of directory from the user."
   ]
  },
  {
   "cell_type": "code",
   "execution_count": 9,
   "metadata": {},
   "outputs": [
    {
     "name": "stdout",
     "output_type": "stream",
     "text": [
      "Files in the directory: ['anotherDir', 'javaFile.java', 'jsFile.js', 'nothing', 'temp.css', 'temp.html', 'tempDir']\n",
      "File extension: java\n",
      "Extension directory: C:\\Users\\krupesh\\OneDrive\\Desktop\\New folder\\java\n",
      "File extension: js\n",
      "Extension directory: C:\\Users\\krupesh\\OneDrive\\Desktop\\New folder\\js\n",
      "File extension: \n",
      "Extension directory: C:\\Users\\krupesh\\OneDrive\\Desktop\\New folder\\others\n",
      "File extension: css\n",
      "Extension directory: C:\\Users\\krupesh\\OneDrive\\Desktop\\New folder\\css\n",
      "File extension: html\n",
      "Extension directory: C:\\Users\\krupesh\\OneDrive\\Desktop\\New folder\\html\n",
      "\n",
      "All files have been organized successfully.\n"
     ]
    }
   ],
   "source": [
    "directory_path = input(\"Enter the directory path: \")\n",
    "fileOrganizer(directory_path)"
   ]
  }
 ],
 "metadata": {
  "kernelspec": {
   "display_name": "Python 3",
   "language": "python",
   "name": "python3"
  },
  "language_info": {
   "codemirror_mode": {
    "name": "ipython",
    "version": 3
   },
   "file_extension": ".py",
   "mimetype": "text/x-python",
   "name": "python",
   "nbconvert_exporter": "python",
   "pygments_lexer": "ipython3",
   "version": "3.12.0"
  }
 },
 "nbformat": 4,
 "nbformat_minor": 2
}
